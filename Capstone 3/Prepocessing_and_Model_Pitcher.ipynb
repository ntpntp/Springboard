{
 "cells": [
  {
   "cell_type": "code",
   "execution_count": 1,
   "id": "bibliographic-nylon",
   "metadata": {},
   "outputs": [],
   "source": [
    "import numpy as np\n",
    "import pandas as pd\n",
    "import matplotlib.pyplot as plt \n",
    "from sklearn.model_selection import train_test_split\n",
    "from sklearn.preprocessing import StandardScaler \n",
    "from sklearn.preprocessing import OneHotEncoder\n",
    "from sklearn.metrics import r2_score, mean_squared_error"
   ]
  },
  {
   "cell_type": "code",
   "execution_count": 2,
   "id": "frequent-curtis",
   "metadata": {},
   "outputs": [],
   "source": [
    "df_pitcher = pd.read_csv('df_pitcher_processed.csv')"
   ]
  },
  {
   "cell_type": "code",
   "execution_count": 3,
   "id": "discrete-irrigation",
   "metadata": {},
   "outputs": [
    {
     "data": {
      "text/html": [
       "<div>\n",
       "<style scoped>\n",
       "    .dataframe tbody tr th:only-of-type {\n",
       "        vertical-align: middle;\n",
       "    }\n",
       "\n",
       "    .dataframe tbody tr th {\n",
       "        vertical-align: top;\n",
       "    }\n",
       "\n",
       "    .dataframe thead th {\n",
       "        text-align: right;\n",
       "    }\n",
       "</style>\n",
       "<table border=\"1\" class=\"dataframe\">\n",
       "  <thead>\n",
       "    <tr style=\"text-align: right;\">\n",
       "      <th></th>\n",
       "      <th>playerName</th>\n",
       "      <th>salary</th>\n",
       "      <th>adj_salary_filled</th>\n",
       "      <th>flag</th>\n",
       "      <th>Age</th>\n",
       "      <th>HT</th>\n",
       "      <th>WT</th>\n",
       "      <th>Bats</th>\n",
       "      <th>Throws</th>\n",
       "      <th>year</th>\n",
       "      <th>...</th>\n",
       "      <th>WP</th>\n",
       "      <th>BK</th>\n",
       "      <th>ERA</th>\n",
       "      <th>h9</th>\n",
       "      <th>hr9</th>\n",
       "      <th>bb9</th>\n",
       "      <th>so9</th>\n",
       "      <th>WHIP</th>\n",
       "      <th>total_years_mlb</th>\n",
       "      <th>minimum_year</th>\n",
       "    </tr>\n",
       "  </thead>\n",
       "  <tbody>\n",
       "    <tr>\n",
       "      <th>0</th>\n",
       "      <td>AJ Achter</td>\n",
       "      <td>NaN</td>\n",
       "      <td>3106478.4</td>\n",
       "      <td>1</td>\n",
       "      <td>25</td>\n",
       "      <td>6-5</td>\n",
       "      <td>190</td>\n",
       "      <td>R</td>\n",
       "      <td>R</td>\n",
       "      <td>2014</td>\n",
       "      <td>...</td>\n",
       "      <td>0</td>\n",
       "      <td>0</td>\n",
       "      <td>3.27</td>\n",
       "      <td>11.45</td>\n",
       "      <td>1.64</td>\n",
       "      <td>2.45</td>\n",
       "      <td>4.09</td>\n",
       "      <td>1.55</td>\n",
       "      <td>1</td>\n",
       "      <td>480000</td>\n",
       "    </tr>\n",
       "    <tr>\n",
       "      <th>1</th>\n",
       "      <td>AJ Achter</td>\n",
       "      <td>507500.0</td>\n",
       "      <td>3284453.7</td>\n",
       "      <td>0</td>\n",
       "      <td>26</td>\n",
       "      <td>6-5</td>\n",
       "      <td>190</td>\n",
       "      <td>R</td>\n",
       "      <td>R</td>\n",
       "      <td>2015</td>\n",
       "      <td>...</td>\n",
       "      <td>0</td>\n",
       "      <td>0</td>\n",
       "      <td>6.75</td>\n",
       "      <td>8.10</td>\n",
       "      <td>2.70</td>\n",
       "      <td>4.05</td>\n",
       "      <td>9.45</td>\n",
       "      <td>1.35</td>\n",
       "      <td>2</td>\n",
       "      <td>507500</td>\n",
       "    </tr>\n",
       "    <tr>\n",
       "      <th>2</th>\n",
       "      <td>AJ Achter</td>\n",
       "      <td>NaN</td>\n",
       "      <td>3284453.7</td>\n",
       "      <td>1</td>\n",
       "      <td>27</td>\n",
       "      <td>6-5</td>\n",
       "      <td>190</td>\n",
       "      <td>R</td>\n",
       "      <td>R</td>\n",
       "      <td>2016</td>\n",
       "      <td>...</td>\n",
       "      <td>0</td>\n",
       "      <td>0</td>\n",
       "      <td>3.11</td>\n",
       "      <td>10.27</td>\n",
       "      <td>1.67</td>\n",
       "      <td>2.87</td>\n",
       "      <td>3.35</td>\n",
       "      <td>1.46</td>\n",
       "      <td>3</td>\n",
       "      <td>507500</td>\n",
       "    </tr>\n",
       "    <tr>\n",
       "      <th>3</th>\n",
       "      <td>AJ Burnett</td>\n",
       "      <td>16500000.0</td>\n",
       "      <td>106785193.3</td>\n",
       "      <td>0</td>\n",
       "      <td>33</td>\n",
       "      <td>6-5</td>\n",
       "      <td>205</td>\n",
       "      <td>R</td>\n",
       "      <td>R</td>\n",
       "      <td>2010</td>\n",
       "      <td>...</td>\n",
       "      <td>16</td>\n",
       "      <td>0</td>\n",
       "      <td>5.26</td>\n",
       "      <td>9.84</td>\n",
       "      <td>1.21</td>\n",
       "      <td>3.76</td>\n",
       "      <td>6.99</td>\n",
       "      <td>1.51</td>\n",
       "      <td>12</td>\n",
       "      <td>400000</td>\n",
       "    </tr>\n",
       "    <tr>\n",
       "      <th>4</th>\n",
       "      <td>AJ Burnett</td>\n",
       "      <td>16500000.0</td>\n",
       "      <td>106785193.3</td>\n",
       "      <td>0</td>\n",
       "      <td>34</td>\n",
       "      <td>6-5</td>\n",
       "      <td>205</td>\n",
       "      <td>R</td>\n",
       "      <td>R</td>\n",
       "      <td>2011</td>\n",
       "      <td>...</td>\n",
       "      <td>25</td>\n",
       "      <td>0</td>\n",
       "      <td>5.15</td>\n",
       "      <td>8.98</td>\n",
       "      <td>1.47</td>\n",
       "      <td>3.92</td>\n",
       "      <td>8.18</td>\n",
       "      <td>1.43</td>\n",
       "      <td>13</td>\n",
       "      <td>414000</td>\n",
       "    </tr>\n",
       "  </tbody>\n",
       "</table>\n",
       "<p>5 rows × 41 columns</p>\n",
       "</div>"
      ],
      "text/plain": [
       "   playerName      salary  adj_salary_filled  flag  Age   HT   WT Bats Throws  \\\n",
       "0   AJ Achter         NaN          3106478.4     1   25  6-5  190    R      R   \n",
       "1   AJ Achter    507500.0          3284453.7     0   26  6-5  190    R      R   \n",
       "2   AJ Achter         NaN          3284453.7     1   27  6-5  190    R      R   \n",
       "3  AJ Burnett  16500000.0        106785193.3     0   33  6-5  205    R      R   \n",
       "4  AJ Burnett  16500000.0        106785193.3     0   34  6-5  205    R      R   \n",
       "\n",
       "   year  ...  WP BK   ERA     h9   hr9   bb9   so9  WHIP  total_years_mlb  \\\n",
       "0  2014  ...   0  0  3.27  11.45  1.64  2.45  4.09  1.55                1   \n",
       "1  2015  ...   0  0  6.75   8.10  2.70  4.05  9.45  1.35                2   \n",
       "2  2016  ...   0  0  3.11  10.27  1.67  2.87  3.35  1.46                3   \n",
       "3  2010  ...  16  0  5.26   9.84  1.21  3.76  6.99  1.51               12   \n",
       "4  2011  ...  25  0  5.15   8.98  1.47  3.92  8.18  1.43               13   \n",
       "\n",
       "   minimum_year  \n",
       "0        480000  \n",
       "1        507500  \n",
       "2        507500  \n",
       "3        400000  \n",
       "4        414000  \n",
       "\n",
       "[5 rows x 41 columns]"
      ]
     },
     "execution_count": 3,
     "metadata": {},
     "output_type": "execute_result"
    }
   ],
   "source": [
    "df_pitcher.head()"
   ]
  },
  {
   "cell_type": "markdown",
   "id": "aerial-bench",
   "metadata": {},
   "source": [
    "# Prepocessing Baseline Regression Model"
   ]
  },
  {
   "cell_type": "code",
   "execution_count": 4,
   "id": "medical-scenario",
   "metadata": {},
   "outputs": [],
   "source": [
    "from sklearn.dummy import DummyRegressor\n",
    "from sklearn.model_selection import train_test_split\n",
    "from sklearn.metrics import r2_score\n",
    "\n",
    "#drop columns not needed\n",
    "df_pitcher_fin = df_pitcher.drop(columns=['salary', 'borndate', \n",
    "                                    'Place', 'playerName', 'HT', 'teamName'], axis=1)\n",
    "\n",
    "#encode categorical data \n",
    "dfh_obj = df_pitcher_fin.select_dtypes(include=['object']).copy()\n",
    "dfh_obj.columns\n",
    "dummies = pd.get_dummies(df_pitcher_fin[['Bats', 'Throws', 'LeagueAbbr', 'posit']], drop_first=True)\n",
    "\n",
    "\n",
    "# Drop the column with the independent variable (Salary), and columns for which we created dummy variables\n",
    "X_ = df_pitcher_fin.drop(['Bats', 'Throws', 'LeagueAbbr', 'posit', 'adj_salary_filled' ], axis=1).astype('float64')\n",
    "\n",
    "# Define the feature set X and y\n",
    "X = pd.concat([X_, dummies], axis=1)\n",
    "y = np.log(df_pitcher_fin.adj_salary_filled)\n",
    "\n",
    "X_train, X_test, y_train, y_test = train_test_split(X, y, test_size=0.2, random_state=42)"
   ]
  },
  {
   "cell_type": "code",
   "execution_count": 5,
   "id": "corrected-thermal",
   "metadata": {},
   "outputs": [],
   "source": [
    "# Make function that print the tuned parameters and score\n",
    "def print_results(cv):\n",
    "    print(\"Best Hyper-parameters found: {}\".format(cv.best_params_)) \n",
    "    print(\"Best RMSE score on development set: {:.0f}\".format(np.sqrt(-cv.best_score_)))\n",
    "    RMSE = np.sqrt(-cv.score(X_test, y_test))\n",
    "    print(\"\\nRMSE on test set: {:.0f}\".format(RMSE))\n",
    "    r_squared = r2_score(y_test,cv.predict(X_test))\n",
    "    print(\"R^2 on test set: {:.4f}\".format(r_squared))"
   ]
  },
  {
   "cell_type": "markdown",
   "id": "considered-roommate",
   "metadata": {},
   "source": [
    "# Ridge Regression (Linear Regression)"
   ]
  },
  {
   "cell_type": "code",
   "execution_count": 6,
   "id": "aerial-commission",
   "metadata": {},
   "outputs": [],
   "source": [
    "from sklearn.linear_model import Ridge\n",
    "from sklearn.linear_model import LinearRegression"
   ]
  },
  {
   "cell_type": "code",
   "execution_count": 7,
   "id": "suffering-approach",
   "metadata": {},
   "outputs": [],
   "source": [
    "# import basic packages\n",
    "import matplotlib.pyplot as plt\n",
    "import numpy as np\n",
    "import pandas as pd\n",
    "import seaborn as sns\n",
    "import pickle\n",
    "\n",
    "# import machine learning packages\n",
    "from sklearn.preprocessing import StandardScaler\n",
    "from sklearn.pipeline import Pipeline\n",
    "\n",
    "from sklearn.model_selection import GridSearchCV\n",
    "from sklearn.model_selection import RandomizedSearchCV\n",
    "\n",
    "from sklearn.metrics import mean_squared_error\n",
    "from sklearn.metrics import r2_score\n",
    "from sklearn.metrics import mean_absolute_error"
   ]
  },
  {
   "cell_type": "code",
   "execution_count": 8,
   "id": "through-hawaiian",
   "metadata": {},
   "outputs": [
    {
     "name": "stdout",
     "output_type": "stream",
     "text": [
      "Best Hyper-parameters found: {'lr__alpha': 0.01}\n",
      "Best RMSE score on development set: 1\n",
      "\n",
      "RMSE on test set: 1\n",
      "R^2 on test set: 0.5780\n"
     ]
    }
   ],
   "source": [
    "# Ridge Regression tuning alpha\n",
    "steps = [('lr', Ridge(normalize=True, random_state=42, solver='auto'))] #normalize=True for scaling\n",
    "pl = Pipeline(steps) \n",
    "param_grid = {'lr__alpha':[.001,.01,.1,1]}\n",
    "cv = GridSearchCV(pl, param_grid, cv=5, scoring='neg_mean_squared_error')\n",
    "cv.fit(X_train,y_train)\n",
    "\n",
    "print_results(cv)"
   ]
  },
  {
   "cell_type": "code",
   "execution_count": 9,
   "id": "occasional-farmer",
   "metadata": {},
   "outputs": [
    {
     "name": "stdout",
     "output_type": "stream",
     "text": [
      "Best Hyper-parameters found: {}\n",
      "Best RMSE score on development set: 1\n",
      "\n",
      "RMSE on test set: 1\n",
      "R^2 on test set: 0.5770\n",
      "Wall time: 268 ms\n"
     ]
    }
   ],
   "source": [
    "%%time\n",
    "# Linear Regression\n",
    "lr = LinearRegression(normalize=True, n_jobs=-1)\n",
    "param_grid = {}\n",
    "cv = GridSearchCV(lr, param_grid, cv=5, scoring='neg_mean_squared_error')\n",
    "cv.fit(X_train,y_train)\n",
    "\n",
    "print_results(cv)\n",
    "\n",
    "lr_trained = cv"
   ]
  },
  {
   "cell_type": "markdown",
   "id": "medieval-papua",
   "metadata": {},
   "source": [
    "# Random Forest"
   ]
  },
  {
   "cell_type": "code",
   "execution_count": 10,
   "id": "unique-comment",
   "metadata": {},
   "outputs": [],
   "source": [
    "from sklearn.ensemble import RandomForestRegressor"
   ]
  },
  {
   "cell_type": "markdown",
   "id": "induced-brass",
   "metadata": {},
   "source": [
    "I found from previous experiment all the default values for the hyperparameters are actually the best and this means no regularization for Random Forest is necessary for my data."
   ]
  },
  {
   "cell_type": "code",
   "execution_count": 11,
   "id": "missing-category",
   "metadata": {},
   "outputs": [
    {
     "name": "stdout",
     "output_type": "stream",
     "text": [
      "Best Hyper-parameters found: {}\n",
      "Best RMSE score on development set: 1\n",
      "\n",
      "RMSE on test set: 1\n",
      "R^2 on test set: 0.7764\n",
      "Wall time: 40.7 s\n"
     ]
    }
   ],
   "source": [
    "%%time\n",
    "# with feature scaling\n",
    "rf = RandomForestRegressor(random_state=42, n_jobs=-1,n_estimators=1000)\n",
    "steps = [('scale',StandardScaler()), ('rf', rf)] #\n",
    "pl = Pipeline(steps)\n",
    "param_grid = {} # found default values are the best above\n",
    "cv = GridSearchCV(pl, param_grid, cv=5, scoring='neg_mean_squared_error')\n",
    "cv.fit(X_train,y_train)\n",
    "\n",
    "print_results(cv)"
   ]
  },
  {
   "cell_type": "markdown",
   "id": "frequent-canadian",
   "metadata": {},
   "source": [
    "I found scaling did not improve the performance.\n",
    "\n",
    "Best RF model found"
   ]
  },
  {
   "cell_type": "code",
   "execution_count": 12,
   "id": "lesser-annex",
   "metadata": {},
   "outputs": [
    {
     "name": "stdout",
     "output_type": "stream",
     "text": [
      "Best Hyper-parameters found: {}\n",
      "Best RMSE score on development set: 1\n",
      "\n",
      "RMSE on test set: 1\n",
      "R^2 on test set: 0.7761\n",
      "Wall time: 41 s\n"
     ]
    }
   ],
   "source": [
    "%%time\n",
    "# Best model for Random Forest \n",
    "rf = RandomForestRegressor(random_state=42, n_jobs=-1,n_estimators=1000)  \n",
    "param_grid = {}\n",
    "cv = GridSearchCV(rf, param_grid, cv=5, scoring='neg_mean_squared_error')\n",
    "cv.fit(X_train,y_train)\n",
    "\n",
    "print_results(cv)"
   ]
  },
  {
   "cell_type": "code",
   "execution_count": 15,
   "id": "studied-beach",
   "metadata": {},
   "outputs": [],
   "source": [
    "  # Save the trained model \n",
    "rf_trained = cv  "
   ]
  },
  {
   "cell_type": "markdown",
   "id": "fitting-party",
   "metadata": {},
   "source": [
    "# LightGBM"
   ]
  },
  {
   "cell_type": "code",
   "execution_count": 16,
   "id": "moral-madrid",
   "metadata": {},
   "outputs": [],
   "source": [
    "import lightgbm as lgb"
   ]
  },
  {
   "cell_type": "markdown",
   "id": "tired-generation",
   "metadata": {},
   "source": [
    "I tried a lot of more hyperparameter values (coarse to finer) and found this is one of the best finer combinations of hyperparameters with n_etimators=500. However, I found increasing n_esimators to 1000 makes the prediction better (see below)."
   ]
  },
  {
   "cell_type": "code",
   "execution_count": 17,
   "id": "light-soldier",
   "metadata": {},
   "outputs": [
    {
     "name": "stdout",
     "output_type": "stream",
     "text": [
      "[LightGBM] [Warning] feature_fraction is set=0.5, colsample_bytree=1.0 will be ignored. Current value: feature_fraction=0.5\n",
      "[LightGBM] [Warning] bagging_fraction is set=0.9, subsample=1.0 will be ignored. Current value: bagging_fraction=0.9\n",
      "[LightGBM] [Warning] bagging_freq is set=15, subsample_freq=0 will be ignored. Current value: bagging_freq=15\n",
      "[LightGBM] [Warning] feature_fraction is set=0.5, colsample_bytree=1.0 will be ignored. Current value: feature_fraction=0.5\n",
      "[LightGBM] [Warning] bagging_fraction is set=0.9, subsample=1.0 will be ignored. Current value: bagging_fraction=0.9\n",
      "[LightGBM] [Warning] bagging_freq is set=15, subsample_freq=0 will be ignored. Current value: bagging_freq=15\n",
      "[LightGBM] [Warning] feature_fraction is set=0.5, colsample_bytree=1.0 will be ignored. Current value: feature_fraction=0.5\n",
      "[LightGBM] [Warning] bagging_fraction is set=0.9, subsample=1.0 will be ignored. Current value: bagging_fraction=0.9\n",
      "[LightGBM] [Warning] bagging_freq is set=15, subsample_freq=0 will be ignored. Current value: bagging_freq=15\n",
      "[LightGBM] [Warning] feature_fraction is set=0.5, colsample_bytree=1.0 will be ignored. Current value: feature_fraction=0.5\n",
      "[LightGBM] [Warning] bagging_fraction is set=0.9, subsample=1.0 will be ignored. Current value: bagging_fraction=0.9\n",
      "[LightGBM] [Warning] bagging_freq is set=15, subsample_freq=0 will be ignored. Current value: bagging_freq=15\n",
      "[LightGBM] [Warning] feature_fraction is set=0.5, colsample_bytree=1.0 will be ignored. Current value: feature_fraction=0.5\n",
      "[LightGBM] [Warning] bagging_fraction is set=0.9, subsample=1.0 will be ignored. Current value: bagging_fraction=0.9\n",
      "[LightGBM] [Warning] bagging_freq is set=15, subsample_freq=0 will be ignored. Current value: bagging_freq=15\n",
      "[LightGBM] [Warning] feature_fraction is set=0.5, colsample_bytree=1.0 will be ignored. Current value: feature_fraction=0.5\n",
      "[LightGBM] [Warning] bagging_fraction is set=0.9, subsample=1.0 will be ignored. Current value: bagging_fraction=0.9\n",
      "[LightGBM] [Warning] bagging_freq is set=15, subsample_freq=0 will be ignored. Current value: bagging_freq=15\n",
      "[LightGBM] [Warning] feature_fraction is set=0.5, colsample_bytree=1.0 will be ignored. Current value: feature_fraction=0.5\n",
      "[LightGBM] [Warning] bagging_fraction is set=0.9, subsample=1.0 will be ignored. Current value: bagging_fraction=0.9\n",
      "[LightGBM] [Warning] bagging_freq is set=15, subsample_freq=0 will be ignored. Current value: bagging_freq=15\n",
      "[LightGBM] [Warning] feature_fraction is set=0.5, colsample_bytree=1.0 will be ignored. Current value: feature_fraction=0.5\n",
      "[LightGBM] [Warning] bagging_fraction is set=0.9, subsample=1.0 will be ignored. Current value: bagging_fraction=0.9\n",
      "[LightGBM] [Warning] bagging_freq is set=15, subsample_freq=0 will be ignored. Current value: bagging_freq=15\n",
      "[LightGBM] [Warning] feature_fraction is set=0.5, colsample_bytree=1.0 will be ignored. Current value: feature_fraction=0.5\n",
      "[LightGBM] [Warning] bagging_fraction is set=0.9, subsample=1.0 will be ignored. Current value: bagging_fraction=0.9\n",
      "[LightGBM] [Warning] bagging_freq is set=15, subsample_freq=0 will be ignored. Current value: bagging_freq=15\n",
      "[LightGBM] [Warning] feature_fraction is set=0.5, colsample_bytree=1.0 will be ignored. Current value: feature_fraction=0.5\n",
      "[LightGBM] [Warning] bagging_fraction is set=0.9, subsample=1.0 will be ignored. Current value: bagging_fraction=0.9\n",
      "[LightGBM] [Warning] bagging_freq is set=15, subsample_freq=0 will be ignored. Current value: bagging_freq=15\n",
      "[LightGBM] [Warning] feature_fraction is set=0.5, colsample_bytree=1.0 will be ignored. Current value: feature_fraction=0.5\n",
      "[LightGBM] [Warning] bagging_fraction is set=0.9, subsample=1.0 will be ignored. Current value: bagging_fraction=0.9\n",
      "[LightGBM] [Warning] bagging_freq is set=15, subsample_freq=0 will be ignored. Current value: bagging_freq=15\n",
      "[LightGBM] [Warning] feature_fraction is set=0.5, colsample_bytree=1.0 will be ignored. Current value: feature_fraction=0.5\n",
      "[LightGBM] [Warning] bagging_fraction is set=0.9, subsample=1.0 will be ignored. Current value: bagging_fraction=0.9\n",
      "[LightGBM] [Warning] bagging_freq is set=15, subsample_freq=0 will be ignored. Current value: bagging_freq=15\n",
      "[LightGBM] [Warning] feature_fraction is set=0.5, colsample_bytree=1.0 will be ignored. Current value: feature_fraction=0.5\n",
      "[LightGBM] [Warning] bagging_fraction is set=0.9, subsample=1.0 will be ignored. Current value: bagging_fraction=0.9\n",
      "[LightGBM] [Warning] bagging_freq is set=15, subsample_freq=0 will be ignored. Current value: bagging_freq=15\n",
      "[LightGBM] [Warning] feature_fraction is set=0.5, colsample_bytree=1.0 will be ignored. Current value: feature_fraction=0.5\n",
      "[LightGBM] [Warning] bagging_fraction is set=0.9, subsample=1.0 will be ignored. Current value: bagging_fraction=0.9\n",
      "[LightGBM] [Warning] bagging_freq is set=15, subsample_freq=0 will be ignored. Current value: bagging_freq=15\n",
      "[LightGBM] [Warning] feature_fraction is set=0.5, colsample_bytree=1.0 will be ignored. Current value: feature_fraction=0.5\n",
      "[LightGBM] [Warning] bagging_fraction is set=0.9, subsample=1.0 will be ignored. Current value: bagging_fraction=0.9\n",
      "[LightGBM] [Warning] bagging_freq is set=15, subsample_freq=0 will be ignored. Current value: bagging_freq=15\n",
      "[LightGBM] [Warning] feature_fraction is set=0.5, colsample_bytree=1.0 will be ignored. Current value: feature_fraction=0.5\n",
      "[LightGBM] [Warning] bagging_fraction is set=0.9, subsample=1.0 will be ignored. Current value: bagging_fraction=0.9\n",
      "[LightGBM] [Warning] bagging_freq is set=15, subsample_freq=0 will be ignored. Current value: bagging_freq=15\n",
      "[LightGBM] [Warning] feature_fraction is set=0.5, colsample_bytree=1.0 will be ignored. Current value: feature_fraction=0.5\n",
      "[LightGBM] [Warning] bagging_fraction is set=0.9, subsample=1.0 will be ignored. Current value: bagging_fraction=0.9\n",
      "[LightGBM] [Warning] bagging_freq is set=15, subsample_freq=0 will be ignored. Current value: bagging_freq=15\n",
      "[LightGBM] [Warning] feature_fraction is set=0.5, colsample_bytree=1.0 will be ignored. Current value: feature_fraction=0.5\n",
      "[LightGBM] [Warning] bagging_fraction is set=0.9, subsample=1.0 will be ignored. Current value: bagging_fraction=0.9\n",
      "[LightGBM] [Warning] bagging_freq is set=15, subsample_freq=0 will be ignored. Current value: bagging_freq=15\n",
      "[LightGBM] [Warning] feature_fraction is set=0.5, colsample_bytree=1.0 will be ignored. Current value: feature_fraction=0.5\n",
      "[LightGBM] [Warning] bagging_fraction is set=0.9, subsample=1.0 will be ignored. Current value: bagging_fraction=0.9\n",
      "[LightGBM] [Warning] bagging_freq is set=15, subsample_freq=0 will be ignored. Current value: bagging_freq=15\n",
      "[LightGBM] [Warning] feature_fraction is set=0.5, colsample_bytree=1.0 will be ignored. Current value: feature_fraction=0.5\n",
      "[LightGBM] [Warning] bagging_fraction is set=0.9, subsample=1.0 will be ignored. Current value: bagging_fraction=0.9\n",
      "[LightGBM] [Warning] bagging_freq is set=15, subsample_freq=0 will be ignored. Current value: bagging_freq=15\n",
      "[LightGBM] [Warning] feature_fraction is set=0.5, colsample_bytree=1.0 will be ignored. Current value: feature_fraction=0.5\n",
      "[LightGBM] [Warning] bagging_fraction is set=0.9, subsample=1.0 will be ignored. Current value: bagging_fraction=0.9\n",
      "[LightGBM] [Warning] bagging_freq is set=15, subsample_freq=0 will be ignored. Current value: bagging_freq=15\n",
      "[LightGBM] [Warning] feature_fraction is set=0.5, colsample_bytree=1.0 will be ignored. Current value: feature_fraction=0.5\n",
      "[LightGBM] [Warning] bagging_fraction is set=0.9, subsample=1.0 will be ignored. Current value: bagging_fraction=0.9\n",
      "[LightGBM] [Warning] bagging_freq is set=15, subsample_freq=0 will be ignored. Current value: bagging_freq=15\n",
      "[LightGBM] [Warning] feature_fraction is set=0.5, colsample_bytree=1.0 will be ignored. Current value: feature_fraction=0.5\n",
      "[LightGBM] [Warning] bagging_fraction is set=0.9, subsample=1.0 will be ignored. Current value: bagging_fraction=0.9\n",
      "[LightGBM] [Warning] bagging_freq is set=15, subsample_freq=0 will be ignored. Current value: bagging_freq=15\n",
      "[LightGBM] [Warning] feature_fraction is set=0.5, colsample_bytree=1.0 will be ignored. Current value: feature_fraction=0.5\n",
      "[LightGBM] [Warning] bagging_fraction is set=0.9, subsample=1.0 will be ignored. Current value: bagging_fraction=0.9\n",
      "[LightGBM] [Warning] bagging_freq is set=15, subsample_freq=0 will be ignored. Current value: bagging_freq=15\n"
     ]
    },
    {
     "name": "stdout",
     "output_type": "stream",
     "text": [
      "[LightGBM] [Warning] feature_fraction is set=0.5, colsample_bytree=1.0 will be ignored. Current value: feature_fraction=0.5\n",
      "[LightGBM] [Warning] bagging_fraction is set=0.9, subsample=1.0 will be ignored. Current value: bagging_fraction=0.9\n",
      "[LightGBM] [Warning] bagging_freq is set=15, subsample_freq=0 will be ignored. Current value: bagging_freq=15\n",
      "[LightGBM] [Warning] feature_fraction is set=0.5, colsample_bytree=1.0 will be ignored. Current value: feature_fraction=0.5\n",
      "[LightGBM] [Warning] bagging_fraction is set=0.9, subsample=1.0 will be ignored. Current value: bagging_fraction=0.9\n",
      "[LightGBM] [Warning] bagging_freq is set=15, subsample_freq=0 will be ignored. Current value: bagging_freq=15\n",
      "[LightGBM] [Warning] feature_fraction is set=0.5, colsample_bytree=1.0 will be ignored. Current value: feature_fraction=0.5\n",
      "[LightGBM] [Warning] bagging_fraction is set=0.9, subsample=1.0 will be ignored. Current value: bagging_fraction=0.9\n",
      "[LightGBM] [Warning] bagging_freq is set=15, subsample_freq=0 will be ignored. Current value: bagging_freq=15\n",
      "[LightGBM] [Warning] feature_fraction is set=0.5, colsample_bytree=1.0 will be ignored. Current value: feature_fraction=0.5\n",
      "[LightGBM] [Warning] bagging_fraction is set=0.9, subsample=1.0 will be ignored. Current value: bagging_fraction=0.9\n",
      "[LightGBM] [Warning] bagging_freq is set=15, subsample_freq=0 will be ignored. Current value: bagging_freq=15\n",
      "[LightGBM] [Warning] feature_fraction is set=0.5, colsample_bytree=1.0 will be ignored. Current value: feature_fraction=0.5\n",
      "[LightGBM] [Warning] bagging_fraction is set=0.9, subsample=1.0 will be ignored. Current value: bagging_fraction=0.9\n",
      "[LightGBM] [Warning] bagging_freq is set=15, subsample_freq=0 will be ignored. Current value: bagging_freq=15\n",
      "[LightGBM] [Warning] feature_fraction is set=0.5, colsample_bytree=1.0 will be ignored. Current value: feature_fraction=0.5\n",
      "[LightGBM] [Warning] bagging_fraction is set=0.9, subsample=1.0 will be ignored. Current value: bagging_fraction=0.9\n",
      "[LightGBM] [Warning] bagging_freq is set=15, subsample_freq=0 will be ignored. Current value: bagging_freq=15\n",
      "[LightGBM] [Warning] feature_fraction is set=0.5, colsample_bytree=1.0 will be ignored. Current value: feature_fraction=0.5\n",
      "[LightGBM] [Warning] bagging_fraction is set=0.9, subsample=1.0 will be ignored. Current value: bagging_fraction=0.9\n",
      "[LightGBM] [Warning] bagging_freq is set=15, subsample_freq=0 will be ignored. Current value: bagging_freq=15\n",
      "[LightGBM] [Warning] feature_fraction is set=0.5, colsample_bytree=1.0 will be ignored. Current value: feature_fraction=0.5\n",
      "[LightGBM] [Warning] bagging_fraction is set=0.9, subsample=1.0 will be ignored. Current value: bagging_fraction=0.9\n",
      "[LightGBM] [Warning] bagging_freq is set=15, subsample_freq=0 will be ignored. Current value: bagging_freq=15\n",
      "[LightGBM] [Warning] feature_fraction is set=0.5, colsample_bytree=1.0 will be ignored. Current value: feature_fraction=0.5\n",
      "[LightGBM] [Warning] bagging_fraction is set=0.9, subsample=1.0 will be ignored. Current value: bagging_fraction=0.9\n",
      "[LightGBM] [Warning] bagging_freq is set=15, subsample_freq=0 will be ignored. Current value: bagging_freq=15\n",
      "[LightGBM] [Warning] feature_fraction is set=0.5, colsample_bytree=1.0 will be ignored. Current value: feature_fraction=0.5\n",
      "[LightGBM] [Warning] bagging_fraction is set=0.9, subsample=1.0 will be ignored. Current value: bagging_fraction=0.9\n",
      "[LightGBM] [Warning] bagging_freq is set=15, subsample_freq=0 will be ignored. Current value: bagging_freq=15\n",
      "[LightGBM] [Warning] feature_fraction is set=0.5, colsample_bytree=1.0 will be ignored. Current value: feature_fraction=0.5\n",
      "[LightGBM] [Warning] bagging_fraction is set=0.9, subsample=1.0 will be ignored. Current value: bagging_fraction=0.9\n",
      "[LightGBM] [Warning] bagging_freq is set=15, subsample_freq=0 will be ignored. Current value: bagging_freq=15\n",
      "[LightGBM] [Warning] feature_fraction is set=0.5, colsample_bytree=1.0 will be ignored. Current value: feature_fraction=0.5\n",
      "[LightGBM] [Warning] bagging_fraction is set=0.9, subsample=1.0 will be ignored. Current value: bagging_fraction=0.9\n",
      "[LightGBM] [Warning] bagging_freq is set=15, subsample_freq=0 will be ignored. Current value: bagging_freq=15\n",
      "[LightGBM] [Warning] feature_fraction is set=0.5, colsample_bytree=1.0 will be ignored. Current value: feature_fraction=0.5\n",
      "[LightGBM] [Warning] bagging_fraction is set=0.9, subsample=1.0 will be ignored. Current value: bagging_fraction=0.9\n",
      "[LightGBM] [Warning] bagging_freq is set=15, subsample_freq=0 will be ignored. Current value: bagging_freq=15\n",
      "[LightGBM] [Warning] feature_fraction is set=0.5, colsample_bytree=1.0 will be ignored. Current value: feature_fraction=0.5\n",
      "[LightGBM] [Warning] bagging_fraction is set=0.9, subsample=1.0 will be ignored. Current value: bagging_fraction=0.9\n",
      "[LightGBM] [Warning] bagging_freq is set=15, subsample_freq=0 will be ignored. Current value: bagging_freq=15\n",
      "[LightGBM] [Warning] feature_fraction is set=0.5, colsample_bytree=1.0 will be ignored. Current value: feature_fraction=0.5\n",
      "[LightGBM] [Warning] bagging_fraction is set=0.9, subsample=1.0 will be ignored. Current value: bagging_fraction=0.9\n",
      "[LightGBM] [Warning] bagging_freq is set=15, subsample_freq=0 will be ignored. Current value: bagging_freq=15\n",
      "[LightGBM] [Warning] feature_fraction is set=0.5, colsample_bytree=1.0 will be ignored. Current value: feature_fraction=0.5\n",
      "[LightGBM] [Warning] bagging_fraction is set=0.9, subsample=1.0 will be ignored. Current value: bagging_fraction=0.9\n",
      "[LightGBM] [Warning] bagging_freq is set=15, subsample_freq=0 will be ignored. Current value: bagging_freq=15\n",
      "[LightGBM] [Warning] feature_fraction is set=0.5, colsample_bytree=1.0 will be ignored. Current value: feature_fraction=0.5\n",
      "[LightGBM] [Warning] bagging_fraction is set=0.9, subsample=1.0 will be ignored. Current value: bagging_fraction=0.9\n",
      "[LightGBM] [Warning] bagging_freq is set=15, subsample_freq=0 will be ignored. Current value: bagging_freq=15\n",
      "[LightGBM] [Warning] feature_fraction is set=0.5, colsample_bytree=1.0 will be ignored. Current value: feature_fraction=0.5\n",
      "[LightGBM] [Warning] bagging_fraction is set=0.9, subsample=1.0 will be ignored. Current value: bagging_fraction=0.9\n",
      "[LightGBM] [Warning] bagging_freq is set=15, subsample_freq=0 will be ignored. Current value: bagging_freq=15\n",
      "[LightGBM] [Warning] feature_fraction is set=0.5, colsample_bytree=1.0 will be ignored. Current value: feature_fraction=0.5\n",
      "[LightGBM] [Warning] bagging_fraction is set=0.9, subsample=1.0 will be ignored. Current value: bagging_fraction=0.9\n",
      "[LightGBM] [Warning] bagging_freq is set=15, subsample_freq=0 will be ignored. Current value: bagging_freq=15\n",
      "[LightGBM] [Warning] feature_fraction is set=0.5, colsample_bytree=1.0 will be ignored. Current value: feature_fraction=0.5\n",
      "[LightGBM] [Warning] bagging_fraction is set=0.9, subsample=1.0 will be ignored. Current value: bagging_fraction=0.9\n",
      "[LightGBM] [Warning] bagging_freq is set=15, subsample_freq=0 will be ignored. Current value: bagging_freq=15\n",
      "[LightGBM] [Warning] feature_fraction is set=0.5, colsample_bytree=1.0 will be ignored. Current value: feature_fraction=0.5\n",
      "[LightGBM] [Warning] bagging_fraction is set=0.9, subsample=1.0 will be ignored. Current value: bagging_fraction=0.9\n",
      "[LightGBM] [Warning] bagging_freq is set=15, subsample_freq=0 will be ignored. Current value: bagging_freq=15\n",
      "[LightGBM] [Warning] feature_fraction is set=0.5, colsample_bytree=1.0 will be ignored. Current value: feature_fraction=0.5\n",
      "[LightGBM] [Warning] bagging_fraction is set=0.9, subsample=1.0 will be ignored. Current value: bagging_fraction=0.9\n",
      "[LightGBM] [Warning] bagging_freq is set=15, subsample_freq=0 will be ignored. Current value: bagging_freq=15\n",
      "Best Hyper-parameters found: {'bagging_fraction': 0.9, 'feature_fraction': 0.5, 'max_depth': 14, 'num_leaves': 160}\n",
      "Best RMSE score on development set: 1\n",
      "\n",
      "RMSE on test set: 1\n",
      "R^2 on test set: 0.7679\n",
      "Wall time: 1min 18s\n"
     ]
    }
   ],
   "source": [
    "%%time\n",
    "# Finer tuning with n_estimators=1000\n",
    "lgbm = lgb.LGBMRegressor(boosting_type=\"gbdt\",random_state=42, \n",
    "                         bagging_freq=15, learning_rate=0.01,\n",
    "                         n_estimators=1000) # alias of num_iterations\n",
    "param_grid = {'max_depth':[13,14,15],'num_leaves':[150,160,170], \n",
    "              'feature_fraction':[.5],'bagging_fraction':[.9] }\n",
    "cv = GridSearchCV(lgbm, param_grid, cv=5, scoring='neg_mean_squared_error')\n",
    "cv.fit(X_train, y_train)\n",
    "\n",
    "print_results(cv)"
   ]
  },
  {
   "cell_type": "code",
   "execution_count": 18,
   "id": "practical-mercury",
   "metadata": {},
   "outputs": [
    {
     "name": "stdout",
     "output_type": "stream",
     "text": [
      "[LightGBM] [Warning] feature_fraction is set=0.5, colsample_bytree=1.0 will be ignored. Current value: feature_fraction=0.5\n",
      "[LightGBM] [Warning] bagging_fraction is set=0.9, subsample=1.0 will be ignored. Current value: bagging_fraction=0.9\n",
      "[LightGBM] [Warning] bagging_freq is set=15, subsample_freq=0 will be ignored. Current value: bagging_freq=15\n",
      "[LightGBM] [Warning] feature_fraction is set=0.5, colsample_bytree=1.0 will be ignored. Current value: feature_fraction=0.5\n",
      "[LightGBM] [Warning] bagging_fraction is set=0.9, subsample=1.0 will be ignored. Current value: bagging_fraction=0.9\n",
      "[LightGBM] [Warning] bagging_freq is set=15, subsample_freq=0 will be ignored. Current value: bagging_freq=15\n",
      "[LightGBM] [Warning] feature_fraction is set=0.5, colsample_bytree=1.0 will be ignored. Current value: feature_fraction=0.5\n",
      "[LightGBM] [Warning] bagging_fraction is set=0.9, subsample=1.0 will be ignored. Current value: bagging_fraction=0.9\n",
      "[LightGBM] [Warning] bagging_freq is set=15, subsample_freq=0 will be ignored. Current value: bagging_freq=15\n",
      "[LightGBM] [Warning] feature_fraction is set=0.5, colsample_bytree=1.0 will be ignored. Current value: feature_fraction=0.5\n",
      "[LightGBM] [Warning] bagging_fraction is set=0.9, subsample=1.0 will be ignored. Current value: bagging_fraction=0.9\n",
      "[LightGBM] [Warning] bagging_freq is set=15, subsample_freq=0 will be ignored. Current value: bagging_freq=15\n",
      "[LightGBM] [Warning] feature_fraction is set=0.5, colsample_bytree=1.0 will be ignored. Current value: feature_fraction=0.5\n",
      "[LightGBM] [Warning] bagging_fraction is set=0.9, subsample=1.0 will be ignored. Current value: bagging_fraction=0.9\n",
      "[LightGBM] [Warning] bagging_freq is set=15, subsample_freq=0 will be ignored. Current value: bagging_freq=15\n",
      "[LightGBM] [Warning] feature_fraction is set=0.5, colsample_bytree=1.0 will be ignored. Current value: feature_fraction=0.5\n",
      "[LightGBM] [Warning] bagging_fraction is set=0.9, subsample=1.0 will be ignored. Current value: bagging_fraction=0.9\n",
      "[LightGBM] [Warning] bagging_freq is set=15, subsample_freq=0 will be ignored. Current value: bagging_freq=15\n",
      "Best Hyper-parameters found: {'bagging_fraction': 0.9, 'feature_fraction': 0.5, 'max_depth': 15, 'num_leaves': 160}\n",
      "Best RMSE score on development set: 1\n",
      "\n",
      "RMSE on test set: 1\n",
      "R^2 on test set: 0.7672\n",
      "Wall time: 8.54 s\n"
     ]
    }
   ],
   "source": [
    "%%time\n",
    "# Best so far\n",
    "lgbm = lgb.LGBMRegressor(boosting_type=\"gbdt\",random_state=42, \n",
    "                         bagging_freq=15, learning_rate=0.01,\n",
    "                         n_estimators=1000) # alias of num_iterations\n",
    "param_grid = {'max_depth':[15],'num_leaves':[160], \n",
    "              'feature_fraction':[.5],'bagging_fraction':[.9] }\n",
    "cv = GridSearchCV(lgbm, param_grid, cv=5, scoring='neg_mean_squared_error')\n",
    "cv.fit(X_train, y_train)\n",
    "\n",
    "print_results(cv)"
   ]
  },
  {
   "cell_type": "markdown",
   "id": "quick-anxiety",
   "metadata": {},
   "source": [
    "Feature scaling with newly tuned hyperparameters slightly dereased RMSE\n",
    "\n",
    "Best LightGBM model found"
   ]
  },
  {
   "cell_type": "code",
   "execution_count": 19,
   "id": "sunrise-helping",
   "metadata": {},
   "outputs": [
    {
     "name": "stdout",
     "output_type": "stream",
     "text": [
      "[LightGBM] [Warning] feature_fraction is set=0.5, colsample_bytree=1.0 will be ignored. Current value: feature_fraction=0.5\n",
      "[LightGBM] [Warning] bagging_fraction is set=1.0, subsample=1.0 will be ignored. Current value: bagging_fraction=1.0\n",
      "[LightGBM] [Warning] bagging_freq is set=15, subsample_freq=0 will be ignored. Current value: bagging_freq=15\n",
      "[LightGBM] [Warning] feature_fraction is set=0.5, colsample_bytree=1.0 will be ignored. Current value: feature_fraction=0.5\n",
      "[LightGBM] [Warning] bagging_fraction is set=1.0, subsample=1.0 will be ignored. Current value: bagging_fraction=1.0\n",
      "[LightGBM] [Warning] bagging_freq is set=15, subsample_freq=0 will be ignored. Current value: bagging_freq=15\n",
      "[LightGBM] [Warning] feature_fraction is set=0.5, colsample_bytree=1.0 will be ignored. Current value: feature_fraction=0.5\n",
      "[LightGBM] [Warning] bagging_fraction is set=1.0, subsample=1.0 will be ignored. Current value: bagging_fraction=1.0\n",
      "[LightGBM] [Warning] bagging_freq is set=15, subsample_freq=0 will be ignored. Current value: bagging_freq=15\n",
      "[LightGBM] [Warning] feature_fraction is set=0.5, colsample_bytree=1.0 will be ignored. Current value: feature_fraction=0.5\n",
      "[LightGBM] [Warning] bagging_fraction is set=1.0, subsample=1.0 will be ignored. Current value: bagging_fraction=1.0\n",
      "[LightGBM] [Warning] bagging_freq is set=15, subsample_freq=0 will be ignored. Current value: bagging_freq=15\n",
      "[LightGBM] [Warning] feature_fraction is set=0.5, colsample_bytree=1.0 will be ignored. Current value: feature_fraction=0.5\n",
      "[LightGBM] [Warning] bagging_fraction is set=1.0, subsample=1.0 will be ignored. Current value: bagging_fraction=1.0\n",
      "[LightGBM] [Warning] bagging_freq is set=15, subsample_freq=0 will be ignored. Current value: bagging_freq=15\n",
      "[LightGBM] [Warning] feature_fraction is set=0.5, colsample_bytree=1.0 will be ignored. Current value: feature_fraction=0.5\n",
      "[LightGBM] [Warning] bagging_fraction is set=1.0, subsample=1.0 will be ignored. Current value: bagging_fraction=1.0\n",
      "[LightGBM] [Warning] bagging_freq is set=15, subsample_freq=0 will be ignored. Current value: bagging_freq=15\n",
      "Best Hyper-parameters found: {'lgbm__bagging_fraction': 1.0, 'lgbm__feature_fraction': 0.5, 'lgbm__max_depth': 15, 'lgbm__num_leaves': 75}\n",
      "Best RMSE score on development set: 1\n",
      "\n",
      "RMSE on test set: 1\n",
      "R^2 on test set: 0.7686\n",
      "Wall time: 5.57 s\n"
     ]
    }
   ],
   "source": [
    "%%time\n",
    "# Best model for LightGBM\n",
    "lgbm = lgb.LGBMRegressor(boosting_type=\"gbdt\",random_state=42, \n",
    "                         learning_rate=0.01, bagging_freq=15,\n",
    "                         n_estimators=1000) # alias of num_iterations\n",
    "steps = [('scale',StandardScaler()), ('lgbm', lgbm)] #\n",
    "pl = Pipeline(steps)\n",
    "param_grid = {'lgbm__max_depth':[15],'lgbm__num_leaves':[75], \n",
    "              'lgbm__feature_fraction':[.5],'lgbm__bagging_fraction':[1.]}\n",
    "cv = GridSearchCV(pl, param_grid, cv=5, scoring='neg_mean_squared_error')\n",
    "cv.fit(X_train, y_train)\n",
    "print_results(cv)"
   ]
  },
  {
   "cell_type": "code",
   "execution_count": 20,
   "id": "floral-extent",
   "metadata": {},
   "outputs": [],
   "source": [
    "# Save the trained model (for later)\n",
    "lgbm_trained = cv"
   ]
  },
  {
   "cell_type": "markdown",
   "id": "fresh-nashville",
   "metadata": {},
   "source": [
    "# Neural Network"
   ]
  },
  {
   "cell_type": "code",
   "execution_count": 36,
   "id": "empirical-mathematics",
   "metadata": {},
   "outputs": [],
   "source": [
    "import tensorflow as tf\n",
    "from tensorflow.keras.models import Sequential\n",
    "from tensorflow.keras.callbacks import EarlyStopping\n",
    "from tensorflow.keras.layers import Dense\n",
    "\n",
    "import tensorflow as tf\n",
    "from tensorflow import keras\n",
    "import keras.backend as K"
   ]
  },
  {
   "cell_type": "code",
   "execution_count": 37,
   "id": "sapphire-boating",
   "metadata": {},
   "outputs": [],
   "source": [
    "# Metric to be calculated for each epoch\n",
    "def root_mean_squared_error(y_true, y_pred):\n",
    "        return K.sqrt(K.mean(K.square(y_pred - y_true)))  #axis=-1 for mean not working"
   ]
  },
  {
   "cell_type": "code",
   "execution_count": 38,
   "id": "injured-branch",
   "metadata": {},
   "outputs": [],
   "source": [
    "# Print a dot for each epoch to show training progress\n",
    "class PrintDot(tf.keras.callbacks.Callback):\n",
    "    def on_epoch_end(self, epoch, logs):\n",
    "        if epoch % 100 == 0: print('')\n",
    "        print('.', end='')"
   ]
  },
  {
   "cell_type": "code",
   "execution_count": 39,
   "id": "loose-stability",
   "metadata": {},
   "outputs": [],
   "source": [
    "# Plot RMSE as a function of epoch\n",
    "def plot_history(history):\n",
    "    plt.figure()\n",
    "    plt.xlabel('Epoch')\n",
    "    plt.ylabel('Root_mean_squared_error ($)')\n",
    "    plt.plot(history.epoch, np.array(history.history['root_mean_squared_error']),\n",
    "           label='Train Loss')\n",
    "    plt.plot(history.epoch, np.array(history.history['val_root_mean_squared_error']),\n",
    "           label = 'Validation loss')\n",
    "    plt.legend()"
   ]
  },
  {
   "cell_type": "code",
   "execution_count": 40,
   "id": "raising-rebate",
   "metadata": {},
   "outputs": [],
   "source": [
    "# Early stop\n",
    "early_stop = EarlyStopping(monitor='val_loss', patience=20)"
   ]
  },
  {
   "cell_type": "code",
   "execution_count": 41,
   "id": "inside-theme",
   "metadata": {},
   "outputs": [],
   "source": [
    "# function that print results of neural network models\n",
    "def print_results_NN(model_history,X_test,y_test):\n",
    "    #loss_test, rmse_test = model_history.model.evaluate(X_test,y_test,verbose=0) #not working properly\n",
    "    last_epoch = model_history.epoch[-1]\n",
    "    last_rmse_val = model_history.history['val_root_mean_squared_error'][-1]\n",
    "    y_pred = model_history.model.predict(X_test).flatten()\n",
    "    rmse_test = np.sqrt(np.mean(np.square(y_pred-y_test)))\n",
    "    r_squared = r2_score(y_test, y_pred)\n",
    "    print(\"Last epoch: {}\".format(last_epoch)) \n",
    "    print(\"Last RMSE score on development set: {:.0f}\".format(last_rmse_val))\n",
    "    print(\"\\nRMSE on test set: {:.0f}\".format(rmse_test))\n",
    "    print(\"R^2 on test set: {:.4f}\".format(r_squared))"
   ]
  },
  {
   "cell_type": "code",
   "execution_count": 47,
   "id": "stock-scholarship",
   "metadata": {},
   "outputs": [],
   "source": [
    "# Build model \n",
    "def nn_model_1(): \n",
    "    # create model\n",
    "    model = Sequential()\n",
    "    model.add(Dense(128, input_dim=35, kernel_initializer='normal', activation='relu'))\n",
    "    model.add(Dense(256, kernel_initializer='normal', activation='relu'))\n",
    "    model.add(Dense(1, kernel_initializer='normal', activation='linear'))\n",
    "    # Compile model\n",
    "    model.compile(loss='mean_squared_error', optimizer='adam', \n",
    "                  metrics=[root_mean_squared_error])\n",
    "    return model"
   ]
  },
  {
   "cell_type": "code",
   "execution_count": 48,
   "id": "beginning-hurricane",
   "metadata": {},
   "outputs": [
    {
     "name": "stdout",
     "output_type": "stream",
     "text": [
      "\n",
      "............................................"
     ]
    },
    {
     "data": {
      "image/png": "[encoded data removed]",
      "text/plain": [
       "<Figure size 432x288 with 1 Axes>"
      ]
     },
     "metadata": {
      "needs_background": "light"
     },
     "output_type": "display_data"
    }
   ],
   "source": [
    "model = nn_model_1()\n",
    "history = model.fit(X_train, y_train, epochs=200,\n",
    "                    validation_split=0.2, verbose=0,\n",
    "                    callbacks=[early_stop, PrintDot()])\n",
    "history_model_1 = history\n",
    "plot_history(history_model_1)"
   ]
  },
  {
   "cell_type": "code",
   "execution_count": 49,
   "id": "married-title",
   "metadata": {},
   "outputs": [
    {
     "name": "stdout",
     "output_type": "stream",
     "text": [
      "Last epoch: 43\n",
      "Last RMSE score on development set: 6\n",
      "\n",
      "RMSE on test set: 6\n",
      "R^2 on test set: -31.6435\n"
     ]
    }
   ],
   "source": [
    "print_results_NN(history_model_1,X_test,y_test)"
   ]
  },
  {
   "cell_type": "code",
   "execution_count": 50,
   "id": "suspended-hostel",
   "metadata": {},
   "outputs": [],
   "source": [
    "# Build model \n",
    "def nn_model_2(): \n",
    "    # create model\n",
    "    model = Sequential()\n",
    "    model.add(Dense(128, input_dim=35, kernel_initializer='normal', activation='relu'))\n",
    "    model.add(Dense(256, kernel_initializer='normal', activation='relu'))\n",
    "    model.add(Dense(256, kernel_initializer='normal', activation='relu'))\n",
    "    model.add(Dense(1, kernel_initializer='normal', activation='linear'))\n",
    "    # Compile model\n",
    "    model.compile(loss='mean_squared_error', optimizer='adam', \n",
    "                  metrics=[root_mean_squared_error])\n",
    "    return model"
   ]
  },
  {
   "cell_type": "code",
   "execution_count": 51,
   "id": "prerequisite-perception",
   "metadata": {},
   "outputs": [
    {
     "name": "stdout",
     "output_type": "stream",
     "text": [
      "\n",
      "..............................."
     ]
    },
    {
     "data": {
      "image/png": "[encoded data removed]",
      "text/plain": [
       "<Figure size 432x288 with 1 Axes>"
      ]
     },
     "metadata": {
      "needs_background": "light"
     },
     "output_type": "display_data"
    }
   ],
   "source": [
    "model = nn_model_2()\n",
    "history = model.fit(X_train, y_train, epochs=200,\n",
    "                    validation_split=0.2, verbose=0,\n",
    "                    callbacks=[early_stop, PrintDot()])\n",
    "history_model_2 = history\n",
    "plot_history(history)"
   ]
  },
  {
   "cell_type": "code",
   "execution_count": 52,
   "id": "skilled-alias",
   "metadata": {},
   "outputs": [
    {
     "name": "stdout",
     "output_type": "stream",
     "text": [
      "Last epoch: 30\n",
      "Last RMSE score on development set: 2\n",
      "\n",
      "RMSE on test set: 2\n",
      "R^2 on test set: -3.2005\n"
     ]
    }
   ],
   "source": [
    "print_results_NN(history_model_2,X_test,y_test)"
   ]
  },
  {
   "cell_type": "code",
   "execution_count": 54,
   "id": "offensive-member",
   "metadata": {},
   "outputs": [],
   "source": [
    "# Build model \n",
    "def nn_model_3(): \n",
    "    # create model\n",
    "    model = Sequential()\n",
    "    model.add(Dense(128, input_dim=35, kernel_initializer='normal', activation='relu'))\n",
    "    model.add(Dense(256, kernel_initializer='normal', activation='relu'))\n",
    "    model.add(Dense(256, kernel_initializer='normal', activation='relu'))\n",
    "    model.add(Dense(256, kernel_initializer='normal', activation='relu'))\n",
    "    model.add(Dense(1, kernel_initializer='normal', activation='linear'))\n",
    "    # Compile model\n",
    "    model.compile(loss='mean_squared_error', optimizer='adam', \n",
    "                  metrics=[root_mean_squared_error])\n",
    "    return model"
   ]
  },
  {
   "cell_type": "code",
   "execution_count": 55,
   "id": "beginning-jacksonville",
   "metadata": {},
   "outputs": [
    {
     "name": "stdout",
     "output_type": "stream",
     "text": [
      "\n",
      "................................................................."
     ]
    },
    {
     "data": {
      "image/png": "[encoded data removed]",
      "text/plain": [
       "<Figure size 432x288 with 1 Axes>"
      ]
     },
     "metadata": {
      "needs_background": "light"
     },
     "output_type": "display_data"
    }
   ],
   "source": [
    "model = nn_model_3()\n",
    "history = model.fit(X_train, y_train, epochs=200,\n",
    "                    validation_split=0.2, verbose=0,\n",
    "                    callbacks=[early_stop, PrintDot()])\n",
    "history_model_3 = history\n",
    "plot_history(history)"
   ]
  },
  {
   "cell_type": "code",
   "execution_count": 56,
   "id": "waiting-welding",
   "metadata": {},
   "outputs": [
    {
     "name": "stdout",
     "output_type": "stream",
     "text": [
      "Last epoch: 64\n",
      "Last RMSE score on development set: 2\n",
      "\n",
      "RMSE on test set: 2\n",
      "R^2 on test set: -1.6171\n"
     ]
    }
   ],
   "source": [
    "print_results_NN(history_model_3,X_test,y_test)"
   ]
  },
  {
   "cell_type": "code",
   "execution_count": 57,
   "id": "decreased-simon",
   "metadata": {},
   "outputs": [],
   "source": [
    "# Build model \n",
    "def nn_model_4(): \n",
    "    # create model\n",
    "    model = Sequential()\n",
    "    model.add(Dense(128, input_dim=35, kernel_initializer='normal', activation='relu'))\n",
    "    model.add(Dense(256, kernel_initializer='normal', activation='relu'))\n",
    "    model.add(Dense(256, kernel_initializer='normal', activation='relu'))\n",
    "    model.add(Dense(256, kernel_initializer='normal', activation='relu'))\n",
    "    model.add(Dense(256, kernel_initializer='normal', activation='relu'))\n",
    "    model.add(Dense(1, kernel_initializer='normal', activation='linear'))\n",
    "    # Compile model\n",
    "    model.compile(loss='mean_squared_error', optimizer='adam', \n",
    "                  metrics=[root_mean_squared_error])\n",
    "    return model"
   ]
  },
  {
   "cell_type": "code",
   "execution_count": 58,
   "id": "foreign-opera",
   "metadata": {},
   "outputs": [
    {
     "name": "stdout",
     "output_type": "stream",
     "text": [
      "\n",
      "..............................Wall time: 4.91 s\n"
     ]
    },
    {
     "data": {
      "image/png": "[encoded data removed]",
      "text/plain": [
       "<Figure size 432x288 with 1 Axes>"
      ]
     },
     "metadata": {
      "needs_background": "light"
     },
     "output_type": "display_data"
    }
   ],
   "source": [
    "%%time\n",
    "# one more running with timing\n",
    "model = nn_model_4()\n",
    "history = model.fit(X_train, y_train, epochs=200,\n",
    "                    validation_split=0.2, verbose=0,\n",
    "                    callbacks=[early_stop, PrintDot()])\n",
    "history_model_4 = history\n",
    "plot_history(history_model_4)"
   ]
  },
  {
   "cell_type": "code",
   "execution_count": 59,
   "id": "thousand-artwork",
   "metadata": {},
   "outputs": [
    {
     "name": "stdout",
     "output_type": "stream",
     "text": [
      "Last epoch: 29\n",
      "Last RMSE score on development set: 3\n",
      "\n",
      "RMSE on test set: 2\n",
      "R^2 on test set: -3.9225\n"
     ]
    }
   ],
   "source": [
    "print_results_NN(history_model_4,X_test,y_test)"
   ]
  },
  {
   "cell_type": "markdown",
   "id": "italian-tractor",
   "metadata": {},
   "source": [
    "The best neural network model I found here is model 3. Here is the structure of model 3."
   ]
  },
  {
   "cell_type": "code",
   "execution_count": 60,
   "id": "unlike-slovak",
   "metadata": {},
   "outputs": [
    {
     "name": "stdout",
     "output_type": "stream",
     "text": [
      "Model: \"sequential_8\"\n",
      "_________________________________________________________________\n",
      "Layer (type)                 Output Shape              Param #   \n",
      "=================================================================\n",
      "dense_30 (Dense)             (None, 128)               4608      \n",
      "_________________________________________________________________\n",
      "dense_31 (Dense)             (None, 256)               33024     \n",
      "_________________________________________________________________\n",
      "dense_32 (Dense)             (None, 256)               65792     \n",
      "_________________________________________________________________\n",
      "dense_33 (Dense)             (None, 256)               65792     \n",
      "_________________________________________________________________\n",
      "dense_34 (Dense)             (None, 1)                 257       \n",
      "=================================================================\n",
      "Total params: 169,473\n",
      "Trainable params: 169,473\n",
      "Non-trainable params: 0\n",
      "_________________________________________________________________\n"
     ]
    }
   ],
   "source": [
    "model=nn_model_3()\n",
    "model.summary()"
   ]
  },
  {
   "cell_type": "code",
   "execution_count": 61,
   "id": "unexpected-crest",
   "metadata": {},
   "outputs": [
    {
     "name": "stdout",
     "output_type": "stream",
     "text": [
      "Last epoch: 64\n",
      "Last RMSE score on development set: 2\n",
      "\n",
      "RMSE on test set: 2\n",
      "R^2 on test set: -1.6171\n"
     ]
    }
   ],
   "source": [
    "print_results_NN(history_model_3,X_test,y_test)"
   ]
  },
  {
   "cell_type": "markdown",
   "id": "saving-times",
   "metadata": {},
   "source": [
    "# Feature Importances"
   ]
  },
  {
   "cell_type": "code",
   "execution_count": 62,
   "id": "later-signal",
   "metadata": {},
   "outputs": [],
   "source": [
    "# Make a function that draw a feature importance plot\n",
    "def plot_feature_importances(model_name, importances, feature_names, num_features=None, \n",
    "                             fig_size=None, ax=None):\n",
    "    features_importances = pd.DataFrame(sorted(zip(feature_names, importances), \n",
    "                                           key = lambda tup: tup[1], reverse=True),\n",
    "                                   columns=['features','importances'])\n",
    "    data = features_importances[:num_features]\n",
    "    data.plot('features','importances', kind='barh', ax=ax,\n",
    "              color='blue', figsize=fig_size, legend = None)\n",
    "    plt.gca().invert_yaxis() # reverse the order of features\n",
    "    plt.ylabel('feature importances')\n",
    "    if num_features:\n",
    "        plt.title(model_name + '\\nTop '+str(num_features))\n",
    "    else: \n",
    "        plt.title(model_name + '\\nAll Features')"
   ]
  },
  {
   "cell_type": "code",
   "execution_count": 63,
   "id": "electric-layer",
   "metadata": {},
   "outputs": [
    {
     "data": {
      "image/png": "[encoded data removed]",
      "text/plain": [
       "<Figure size 576x432 with 1 Axes>"
      ]
     },
     "metadata": {
      "needs_background": "light"
     },
     "output_type": "display_data"
    }
   ],
   "source": [
    "\n",
    "# Random Forest\n",
    "importances = rf_trained.best_estimator_.feature_importances_\n",
    "# all features\n",
    "plot_feature_importances('Random Forest', importances, df_pitcher.columns[1:], fig_size=(8,6))"
   ]
  },
  {
   "cell_type": "code",
   "execution_count": 64,
   "id": "heavy-extraction",
   "metadata": {},
   "outputs": [
    {
     "data": {
      "image/png": "[encoded data removed]",
      "text/plain": [
       "<Figure size 576x432 with 1 Axes>"
      ]
     },
     "metadata": {
      "needs_background": "light"
     },
     "output_type": "display_data"
    }
   ],
   "source": [
    "# LightGBM\n",
    "importances = lgbm_trained.best_estimator_.named_steps['lgbm'].feature_importances_\n",
    "# all features\n",
    "plot_feature_importances('LightGBM', importances, df_pitcher.columns[1:], fig_size=(8,6))\n",
    "plt.tight_layout() # need for savefig\n",
    "plt.savefig(\"Feature_importances_LightGBM_all.png\",format=\"png\", dpi=300)"
   ]
  },
  {
   "cell_type": "code",
   "execution_count": 65,
   "id": "coastal-attempt",
   "metadata": {},
   "outputs": [
    {
     "data": {
      "image/png": "[encoded data removed]",
      "text/plain": [
       "<Figure size 432x288 with 1 Axes>"
      ]
     },
     "metadata": {
      "needs_background": "light"
     },
     "output_type": "display_data"
    }
   ],
   "source": [
    "# LightGBM\n",
    "importances = lgbm_trained.best_estimator_.named_steps['lgbm'].feature_importances_\n",
    "plot_feature_importances('LightGBM', importances, df_pitcher.columns[1:], num_features=10)\n",
    "plt.tight_layout() # need for savefig\n",
    "plt.savefig(\"Feature_importances_LightGBM_top10.png\",format=\"png\", dpi=300)\n",
    "\n",
    "plt.show()"
   ]
  },
  {
   "cell_type": "code",
   "execution_count": 66,
   "id": "waiting-walnut",
   "metadata": {},
   "outputs": [
    {
     "data": {
      "text/html": [
       "<div>\n",
       "<style scoped>\n",
       "    .dataframe tbody tr th:only-of-type {\n",
       "        vertical-align: middle;\n",
       "    }\n",
       "\n",
       "    .dataframe tbody tr th {\n",
       "        vertical-align: top;\n",
       "    }\n",
       "\n",
       "    .dataframe thead th {\n",
       "        text-align: right;\n",
       "    }\n",
       "</style>\n",
       "<table border=\"1\" class=\"dataframe\">\n",
       "  <thead>\n",
       "    <tr style=\"text-align: right;\">\n",
       "      <th></th>\n",
       "      <th>RMSE_val</th>\n",
       "      <th>RMSE_test</th>\n",
       "      <th>R_squared</th>\n",
       "      <th>Time</th>\n",
       "      <th>Scaling</th>\n",
       "    </tr>\n",
       "  </thead>\n",
       "  <tbody>\n",
       "    <tr>\n",
       "      <th>Neural Network</th>\n",
       "      <td>2</td>\n",
       "      <td>2</td>\n",
       "      <td>-1.6171</td>\n",
       "      <td>4.91 s</td>\n",
       "      <td>False</td>\n",
       "    </tr>\n",
       "    <tr>\n",
       "      <th>LightGBM</th>\n",
       "      <td>120472</td>\n",
       "      <td>120537</td>\n",
       "      <td>0.8883</td>\n",
       "      <td>10min 31s</td>\n",
       "      <td>True</td>\n",
       "    </tr>\n",
       "    <tr>\n",
       "      <th>RandomForest</th>\n",
       "      <td>131979</td>\n",
       "      <td>124013</td>\n",
       "      <td>0.8818</td>\n",
       "      <td>3min 6s</td>\n",
       "      <td>False</td>\n",
       "    </tr>\n",
       "    <tr>\n",
       "      <th>LinearRegression</th>\n",
       "      <td>202941</td>\n",
       "      <td>200704</td>\n",
       "      <td>0.6904</td>\n",
       "      <td>5.98 s</td>\n",
       "      <td>True</td>\n",
       "    </tr>\n",
       "  </tbody>\n",
       "</table>\n",
       "</div>"
      ],
      "text/plain": [
       "                  RMSE_val  RMSE_test  R_squared       Time  Scaling\n",
       "Neural Network           2          2    -1.6171     4.91 s    False\n",
       "LightGBM            120472     120537     0.8883  10min 31s     True\n",
       "RandomForest        131979     124013     0.8818    3min 6s    False\n",
       "LinearRegression    202941     200704     0.6904     5.98 s     True"
      ]
     },
     "execution_count": 66,
     "metadata": {},
     "output_type": "execute_result"
    }
   ],
   "source": [
    "model_summary = pd.DataFrame({'RMSE_val':[202941,131979,120472,2], \n",
    "                            'RMSE_test':[200704,124013,120537,2], \n",
    "                            'R_squared':[0.6904,0.8818,0.8883,-1.6171],\n",
    "                            'Time':['5.98 s','3min 6s','10min 31s', '4.91 s'],\n",
    "                             'Scaling':[True, False,True, False]},\n",
    "                           index=['LinearRegression', 'RandomForest','LightGBM','Neural Network'])\n",
    "model_summary = model_summary.sort_values(by=['RMSE_test'])\n",
    "model_summary"
   ]
  },
  {
   "cell_type": "code",
   "execution_count": 67,
   "id": "secure-transparency",
   "metadata": {},
   "outputs": [
    {
     "data": {
      "image/png": "[encoded data removed]",
      "text/plain": [
       "<Figure size 432x288 with 1 Axes>"
      ]
     },
     "metadata": {
      "needs_background": "light"
     },
     "output_type": "display_data"
    }
   ],
   "source": [
    "model_summary.RMSE_test.plot(kind='bar')\n",
    "plt.ylabel('RMSE on the test set')\n",
    "plt.title('Model comparison\\n(sorted by RMSE)')\n",
    "plt.tight_layout() # need for savefig\n",
    "plt.savefig(\"Model_comparison.png\",format=\"png\", dpi=300)\n",
    "plt.show()"
   ]
  },
  {
   "cell_type": "code",
   "execution_count": 68,
   "id": "intelligent-camel",
   "metadata": {},
   "outputs": [
    {
     "data": {
      "image/png": "[encoded data removed]",
      "text/plain": [
       "<Figure size 432x288 with 1 Axes>"
      ]
     },
     "metadata": {
      "needs_background": "light"
     },
     "output_type": "display_data"
    }
   ],
   "source": [
    "model_summary.R_squared.plot(kind='bar')\n",
    "plt.ylabel('R_squared on the test set')\n",
    "plt.title('Model comparison\\n(sorted by R_squared)')\n",
    "plt.tight_layout() # need for savefig\n",
    "plt.savefig(\"Model_comparison.png\",format=\"png\", dpi=300)\n",
    "plt.show()"
   ]
  },
  {
   "cell_type": "markdown",
   "id": "meaning-tampa",
   "metadata": {},
   "source": [
    "LightGBM is best followed by RandomForest followed by LinearRegression"
   ]
  },
  {
   "cell_type": "code",
   "execution_count": null,
   "id": "imperial-kingston",
   "metadata": {},
   "outputs": [],
   "source": []
  }
 ],
 "metadata": {
  "kernelspec": {
   "display_name": "Python 3",
   "language": "python",
   "name": "python3"
  },
  "language_info": {
   "codemirror_mode": {
    "name": "ipython",
    "version": 3
   },
   "file_extension": ".py",
   "mimetype": "text/x-python",
   "name": "python",
   "nbconvert_exporter": "python",
   "pygments_lexer": "ipython3",
   "version": "3.8.5"
  }
 },
 "nbformat": 4,
 "nbformat_minor": 5
}
